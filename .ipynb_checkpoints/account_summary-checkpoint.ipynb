{
 "cells": [
  {
   "cell_type": "markdown",
   "metadata": {},
   "source": [
    "# Budget Analysis\n",
    "\n",
    "---\n",
    "\n",
    "## Environment Setup"
   ]
  },
  {
   "cell_type": "code",
   "execution_count": 1,
   "metadata": {},
   "outputs": [],
   "source": [
    "# Initial Imports\n",
    "import os\n",
    "import plaid\n",
    "import requests\n",
    "import datetime\n",
    "import json\n",
    "import pandas as pd\n",
    "from dotenv import load_dotenv\n",
    "\n",
    "%matplotlib inline"
   ]
  },
  {
   "cell_type": "code",
   "execution_count": 2,
   "metadata": {},
   "outputs": [],
   "source": [
    "# Helper functions\n",
    "\n",
    "def pretty_print_response(response):\n",
    "    \"\"\"\n",
    "    This function formats a JSON file to pretty printing it in the screen.\n",
    "    \"\"\"\n",
    "    print(json.dumps(response, indent=4, sort_keys=True))"
   ]
  },
  {
   "cell_type": "code",
   "execution_count": 3,
   "metadata": {},
   "outputs": [
    {
     "data": {
      "text/plain": [
       "True"
      ]
     },
     "execution_count": 3,
     "metadata": {},
     "output_type": "execute_result"
    }
   ],
   "source": [
    "# Set environment variables from the .env file\n",
    "load_dotenv()"
   ]
  },
  {
   "cell_type": "code",
   "execution_count": 4,
   "metadata": {},
   "outputs": [],
   "source": [
    "# Extract API keys from environment variables\n",
    "PLAID_CLIENT_ID = os.getenv(\"CLIENT_ID\")\n",
    "PLAID_SECRET = os.getenv(\"SECRET_KEY\")\n",
    "PLAID_PUBLIC_KEY = os.getenv(\"PUBLIC_KEY\")"
   ]
  },
  {
   "cell_type": "markdown",
   "metadata": {},
   "source": [
    "---\n",
    "\n",
    "## Plaid Access Token\n",
    "\n",
    "In this section, you will use the `plaid-python` API to generate the correct authentication tokens to access data in the free developer Sandbox. This mimics how you might connect to your own account or a customer account, but due to privacy issues, this homework will only require connecting to and analyzing the fake data from the developer sandbox that Plaid provides. \n",
    "\n",
    "Complete the following steps to generate an access token:\n",
    "\n",
    "1. Create a client to connect to plaid\n",
    "\n",
    "2. Use the client to generate a public token and request the following items: ['transactions', 'income', 'assets']\n",
    "\n",
    "3. Exchange the public token for an access token\n",
    "\n",
    "4. Test the access token by requesting and printing the available test accounts"
   ]
  },
  {
   "cell_type": "markdown",
   "metadata": {},
   "source": [
    "### 1. Create a client to connect to plaid"
   ]
  },
  {
   "cell_type": "code",
   "execution_count": 5,
   "metadata": {},
   "outputs": [],
   "source": [
    "# Create the client object\n",
    "client = plaid.Client(client_id=PLAID_CLIENT_ID, secret=PLAID_SECRET, public_key=PLAID_PUBLIC_KEY, environment='sandbox')"
   ]
  },
  {
   "cell_type": "code",
   "execution_count": 6,
   "metadata": {},
   "outputs": [],
   "source": [
    "# Set the institution id\n",
    "INSITUTION_ID = \"ins_109508\"\n",
    "#client.Institutions.get(2)"
   ]
  },
  {
   "cell_type": "markdown",
   "metadata": {},
   "source": [
    "### 2. Generate a public token"
   ]
  },
  {
   "cell_type": "code",
   "execution_count": 7,
   "metadata": {},
   "outputs": [
    {
     "data": {
      "text/plain": [
       "'public-sandbox-64058f1d-1b49-47d1-bf04-24649c0c863b'"
      ]
     },
     "execution_count": 7,
     "metadata": {},
     "output_type": "execute_result"
    }
   ],
   "source": [
    "# Create the public token\n",
    "\n",
    "create_tkn_response = client.Sandbox.public_token.create(INSITUTION_ID, ['transactions','income','assets'])\n",
    "\n",
    "# Print the public token\n",
    "create_tkn_response[\"public_token\"]"
   ]
  },
  {
   "cell_type": "markdown",
   "metadata": {},
   "source": [
    "### 3. Exchange the public token for an access token"
   ]
  },
  {
   "cell_type": "code",
   "execution_count": 8,
   "metadata": {},
   "outputs": [
    {
     "data": {
      "text/plain": [
       "'access-sandbox-99adac27-da7a-46fe-a498-92939704b622'"
      ]
     },
     "execution_count": 8,
     "metadata": {},
     "output_type": "execute_result"
    }
   ],
   "source": [
    "# Retrieve the access token\n",
    "\n",
    "exchange_response = client.Item.public_token.exchange(create_tkn_response['public_token'])\n",
    "\n",
    "# Print the access toke\n",
    "exchange_response['access_token']"
   ]
  },
  {
   "cell_type": "code",
   "execution_count": 9,
   "metadata": {},
   "outputs": [],
   "source": [
    "# Store the access token in a Python variable\n",
    "access_token = exchange_response['access_token']"
   ]
  },
  {
   "cell_type": "markdown",
   "metadata": {},
   "source": [
    "### 4. Fetch Accounts"
   ]
  },
  {
   "cell_type": "code",
   "execution_count": 10,
   "metadata": {},
   "outputs": [
    {
     "data": {
      "text/plain": [
       "[{'account_id': 'DbEWvg9ePoIdNAJqzERlTlzZNlK5oBtvx3eqV',\n",
       "  'balances': {'available': 100,\n",
       "   'current': 110,\n",
       "   'iso_currency_code': 'USD',\n",
       "   'limit': None,\n",
       "   'unofficial_currency_code': None},\n",
       "  'mask': '0000',\n",
       "  'name': 'Plaid Checking',\n",
       "  'official_name': 'Plaid Gold Standard 0% Interest Checking',\n",
       "  'subtype': 'checking',\n",
       "  'type': 'depository'},\n",
       " {'account_id': 'VPzQ9d73bpSaXZ8QVy9MuMo4BM7DqbhWe9kMz',\n",
       "  'balances': {'available': 200,\n",
       "   'current': 210,\n",
       "   'iso_currency_code': 'USD',\n",
       "   'limit': None,\n",
       "   'unofficial_currency_code': None},\n",
       "  'mask': '1111',\n",
       "  'name': 'Plaid Saving',\n",
       "  'official_name': 'Plaid Silver Standard 0.1% Interest Saving',\n",
       "  'subtype': 'savings',\n",
       "  'type': 'depository'},\n",
       " {'account_id': 'wa6podePW3IR73AjJG4lCn7QjnXwa6urjP9X5',\n",
       "  'balances': {'available': None,\n",
       "   'current': 1000,\n",
       "   'iso_currency_code': 'USD',\n",
       "   'limit': None,\n",
       "   'unofficial_currency_code': None},\n",
       "  'mask': '2222',\n",
       "  'name': 'Plaid CD',\n",
       "  'official_name': 'Plaid Bronze Standard 0.2% Interest CD',\n",
       "  'subtype': 'cd',\n",
       "  'type': 'depository'},\n",
       " {'account_id': '5eXNjd1lv7sVL9pNDRK8IBJERBx3jmuZM5VrA',\n",
       "  'balances': {'available': None,\n",
       "   'current': 410,\n",
       "   'iso_currency_code': 'USD',\n",
       "   'limit': 2000,\n",
       "   'unofficial_currency_code': None},\n",
       "  'mask': '3333',\n",
       "  'name': 'Plaid Credit Card',\n",
       "  'official_name': 'Plaid Diamond 12.5% APR Interest Credit Card',\n",
       "  'subtype': 'credit card',\n",
       "  'type': 'credit'},\n",
       " {'account_id': 'JlyzmnKpMkH6ZbqkKDQ3u3oed3xvQBTdqBj8q',\n",
       "  'balances': {'available': 43200,\n",
       "   'current': 43200,\n",
       "   'iso_currency_code': 'USD',\n",
       "   'limit': None,\n",
       "   'unofficial_currency_code': None},\n",
       "  'mask': '4444',\n",
       "  'name': 'Plaid Money Market',\n",
       "  'official_name': 'Plaid Platinum Standard 1.85% Interest Money Market',\n",
       "  'subtype': 'money market',\n",
       "  'type': 'depository'},\n",
       " {'account_id': 'k9Ra4nrl7wumKng3P67Xu4KpB4xn3buWKLE5d',\n",
       "  'balances': {'available': None,\n",
       "   'current': 320.76,\n",
       "   'iso_currency_code': 'USD',\n",
       "   'limit': None,\n",
       "   'unofficial_currency_code': None},\n",
       "  'mask': '5555',\n",
       "  'name': 'Plaid IRA',\n",
       "  'official_name': None,\n",
       "  'subtype': 'ira',\n",
       "  'type': 'investment'},\n",
       " {'account_id': 'lvR4Nbzke7TqvrB3aGNWt16LX1pQNrtZ8pW37',\n",
       "  'balances': {'available': None,\n",
       "   'current': 23631.9805,\n",
       "   'iso_currency_code': 'USD',\n",
       "   'limit': None,\n",
       "   'unofficial_currency_code': None},\n",
       "  'mask': '6666',\n",
       "  'name': 'Plaid 401k',\n",
       "  'official_name': None,\n",
       "  'subtype': '401k',\n",
       "  'type': 'investment'},\n",
       " {'account_id': 'qr6eQKa3LlIbdpZM5Wz9hBd34By85qudkgWKR',\n",
       "  'balances': {'available': None,\n",
       "   'current': 65262,\n",
       "   'iso_currency_code': 'USD',\n",
       "   'limit': None,\n",
       "   'unofficial_currency_code': None},\n",
       "  'mask': '7777',\n",
       "  'name': 'Plaid Student Loan',\n",
       "  'official_name': None,\n",
       "  'subtype': 'student',\n",
       "  'type': 'loan'},\n",
       " {'account_id': 'KqLBmbro1RhkMwERgpGxfxbqKxvREWuVbR8XD',\n",
       "  'balances': {'available': None,\n",
       "   'current': 56302.06,\n",
       "   'iso_currency_code': 'USD',\n",
       "   'limit': None,\n",
       "   'unofficial_currency_code': None},\n",
       "  'mask': '8888',\n",
       "  'name': 'Plaid Mortgage',\n",
       "  'official_name': None,\n",
       "  'subtype': 'mortgage',\n",
       "  'type': 'loan'}]"
      ]
     },
     "execution_count": 10,
     "metadata": {},
     "output_type": "execute_result"
    }
   ],
   "source": [
    "# Retrieve accounts\n",
    "\n",
    "response = client.Accounts.get(access_token)\n",
    "\n",
    "# Print accounts\n",
    "response[\"accounts\"]"
   ]
  },
  {
   "cell_type": "markdown",
   "metadata": {},
   "source": [
    "---\n",
    "\n",
    "# Account Transactions with Plaid\n",
    "\n",
    "In this section, you will use the Plaid Python SDK to connect to the Developer Sandbox account and grab a list of transactions. You will need to complete the following steps:\n",
    "\n",
    "\n",
    "1. Use the access token to fetch the transactions for the last 90 days\n",
    "\n",
    "2. Print the categories for each transaction type\n",
    "\n",
    "3. Create a new DataFrame using the following fields from the JSON transaction data: `date, name, amount, category`. (For categories with more than one label, just use the first category label in the list)\n",
    "\n",
    "4. Convert the data types to the appropriate types (i.e. datetimeindex for the date and float for the amount)"
   ]
  },
  {
   "cell_type": "markdown",
   "metadata": {},
   "source": [
    "### 1. Fetch the Transactions for the last 90 days"
   ]
  },
  {
   "cell_type": "code",
   "execution_count": 12,
   "metadata": {},
   "outputs": [],
   "source": [
    "# Set the start and end date 90 days from today\n",
    "\n",
    "start_date = '{:%Y-%m-%d}'.format(datetime.datetime.now() + datetime.timedelta(-30))\n",
    "end_date = '{:%Y-%m-%d}'.format(datetime.datetime.now())\n",
    "\n",
    "# Retrieve the transactions for the last 90 days\n",
    "\n",
    "transaction_response = client.Transactions.get(access_token,start_date,end_date)\n",
    "\n",
    "# Print the transactions\n",
    "transaction_response.keys()\n",
    "transactions_list = transaction_response[\"transactions\"]"
   ]
  },
  {
   "cell_type": "markdown",
   "metadata": {},
   "source": [
    "### 2. Print the categories for each transaction"
   ]
  },
  {
   "cell_type": "code",
   "execution_count": 13,
   "metadata": {},
   "outputs": [
    {
     "name": "stdout",
     "output_type": "stream",
     "text": [
      "Food and Drink\n",
      "Food and Drink\n",
      "Food and Drink\n",
      "Transfer\n",
      "Travel\n",
      "Travel\n",
      "Food and Drink\n",
      "Payment\n",
      "Food and Drink\n",
      "Shops\n",
      "Payment\n",
      "Travel\n",
      "Transfer\n",
      "Transfer\n",
      "Recreation\n",
      "Travel\n",
      "Food and Drink\n",
      "Food and Drink\n"
     ]
    }
   ],
   "source": [
    "# Create a for-loop to print the categories for each transaction\n",
    "for transaction in range(len(transactions_list)):\n",
    "    print(transactions_list[transaction][\"category\"][0])\n"
   ]
  },
  {
   "cell_type": "code",
   "execution_count": 14,
   "metadata": {},
   "outputs": [
    {
     "data": {
      "text/plain": [
       "{'account_id': 'DbEWvg9ePoIdNAJqzERlTlzZNlK5oBtvx3eqV',\n",
       " 'account_owner': None,\n",
       " 'amount': 12,\n",
       " 'authorized_date': None,\n",
       " 'category': ['Food and Drink', 'Restaurants', 'Fast Food'],\n",
       " 'category_id': '13005032',\n",
       " 'date': '2020-07-11',\n",
       " 'iso_currency_code': 'USD',\n",
       " 'location': {'address': None,\n",
       "  'city': None,\n",
       "  'country': None,\n",
       "  'lat': None,\n",
       "  'lon': None,\n",
       "  'postal_code': None,\n",
       "  'region': None,\n",
       "  'store_number': '3322'},\n",
       " 'merchant_name': \"McDonald's\",\n",
       " 'name': \"McDonald's\",\n",
       " 'payment_channel': 'in store',\n",
       " 'payment_meta': {'by_order_of': None,\n",
       "  'payee': None,\n",
       "  'payer': None,\n",
       "  'payment_method': None,\n",
       "  'payment_processor': None,\n",
       "  'ppd_id': None,\n",
       "  'reason': None,\n",
       "  'reference_number': None},\n",
       " 'pending': False,\n",
       " 'pending_transaction_id': None,\n",
       " 'transaction_code': None,\n",
       " 'transaction_id': 'BGo8mpgj4wiZa8BVnL5GSM4r8zPV7Jswn4ybr',\n",
       " 'transaction_type': 'place',\n",
       " 'unofficial_currency_code': None}"
      ]
     },
     "execution_count": 14,
     "metadata": {},
     "output_type": "execute_result"
    }
   ],
   "source": [
    "transactions_list[0]"
   ]
  },
  {
   "cell_type": "markdown",
   "metadata": {},
   "source": [
    "### 3. Create a new DataFrame using the following fields from the JSON transaction data: `date`, `name`, `amount`, `category`. \n",
    "\n",
    "(For categories with more than one label, just use the first category label in the list)"
   ]
  },
  {
   "cell_type": "code",
   "execution_count": 15,
   "metadata": {},
   "outputs": [
    {
     "data": {
      "text/html": [
       "<div>\n",
       "<style scoped>\n",
       "    .dataframe tbody tr th:only-of-type {\n",
       "        vertical-align: middle;\n",
       "    }\n",
       "\n",
       "    .dataframe tbody tr th {\n",
       "        vertical-align: top;\n",
       "    }\n",
       "\n",
       "    .dataframe thead th {\n",
       "        text-align: right;\n",
       "    }\n",
       "</style>\n",
       "<table border=\"1\" class=\"dataframe\">\n",
       "  <thead>\n",
       "    <tr style=\"text-align: right;\">\n",
       "      <th></th>\n",
       "      <th>Date</th>\n",
       "      <th>Name</th>\n",
       "      <th>Amount</th>\n",
       "      <th>Category</th>\n",
       "    </tr>\n",
       "  </thead>\n",
       "  <tbody>\n",
       "    <tr>\n",
       "      <th>0</th>\n",
       "      <td>2020-07-11</td>\n",
       "      <td>McDonald's</td>\n",
       "      <td>12.00</td>\n",
       "      <td>Food and Drink</td>\n",
       "    </tr>\n",
       "    <tr>\n",
       "      <th>1</th>\n",
       "      <td>2020-07-11</td>\n",
       "      <td>Starbucks</td>\n",
       "      <td>4.33</td>\n",
       "      <td>Food and Drink</td>\n",
       "    </tr>\n",
       "    <tr>\n",
       "      <th>2</th>\n",
       "      <td>2020-07-10</td>\n",
       "      <td>SparkFun</td>\n",
       "      <td>89.40</td>\n",
       "      <td>Food and Drink</td>\n",
       "    </tr>\n",
       "    <tr>\n",
       "      <th>3</th>\n",
       "      <td>2020-07-09</td>\n",
       "      <td>INTRST PYMNT</td>\n",
       "      <td>-4.22</td>\n",
       "      <td>Transfer</td>\n",
       "    </tr>\n",
       "    <tr>\n",
       "      <th>4</th>\n",
       "      <td>2020-06-29</td>\n",
       "      <td>United Airlines</td>\n",
       "      <td>500.00</td>\n",
       "      <td>Travel</td>\n",
       "    </tr>\n",
       "  </tbody>\n",
       "</table>\n",
       "</div>"
      ],
      "text/plain": [
       "         Date             Name  Amount        Category\n",
       "0  2020-07-11       McDonald's   12.00  Food and Drink\n",
       "1  2020-07-11        Starbucks    4.33  Food and Drink\n",
       "2  2020-07-10         SparkFun   89.40  Food and Drink\n",
       "3  2020-07-09     INTRST PYMNT   -4.22        Transfer\n",
       "4  2020-06-29  United Airlines  500.00          Travel"
      ]
     },
     "execution_count": 15,
     "metadata": {},
     "output_type": "execute_result"
    }
   ],
   "source": [
    "# Define an empty DataFrame and set the columns as date, name, amount, and category\n",
    "\n",
    "transactions_df = pd.DataFrame()\n",
    "\n",
    "\n",
    "# Retrieve all the transactions\n",
    "\n",
    "date_list = []\n",
    "name_list = []\n",
    "amount_list = []\n",
    "category_list = []\n",
    "\n",
    "for transaction in range(len(transactions_list)):\n",
    "    date_list.append(transactions_list[transaction][\"date\"])\n",
    "    name_list.append(transactions_list[transaction][\"name\"])\n",
    "    amount_list.append(transactions_list[transaction][\"amount\"])\n",
    "    category_list.append(transactions_list[transaction][\"category\"][0])\n",
    "\n",
    "# Populate the transactions DataFrame with the transactions data\n",
    "\n",
    "\n",
    "transactions_df[\"Date\"] = pd.Series(date_list)\n",
    "transactions_df[\"Name\"] = pd.Series(name_list)\n",
    "transactions_df[\"Amount\"] = pd.Series(amount_list)\n",
    "transactions_df[\"Category\"] = pd.Series(category_list)\n",
    "\n",
    "# Display sample data from the DataFrame    \n",
    "transactions_df.head()"
   ]
  },
  {
   "cell_type": "markdown",
   "metadata": {},
   "source": [
    "### 4. Convert the data types to the appropriate types \n",
    "\n",
    "(i.e. datetimeindex for the date and float for the amount)"
   ]
  },
  {
   "cell_type": "code",
   "execution_count": 16,
   "metadata": {},
   "outputs": [
    {
     "data": {
      "text/plain": [
       "Date         object\n",
       "Name         object\n",
       "Amount      float64\n",
       "Category     object\n",
       "dtype: object"
      ]
     },
     "execution_count": 16,
     "metadata": {},
     "output_type": "execute_result"
    }
   ],
   "source": [
    "# Display data types\n",
    "transactions_df.dtypes"
   ]
  },
  {
   "cell_type": "code",
   "execution_count": 17,
   "metadata": {},
   "outputs": [
    {
     "data": {
      "text/html": [
       "<div>\n",
       "<style scoped>\n",
       "    .dataframe tbody tr th:only-of-type {\n",
       "        vertical-align: middle;\n",
       "    }\n",
       "\n",
       "    .dataframe tbody tr th {\n",
       "        vertical-align: top;\n",
       "    }\n",
       "\n",
       "    .dataframe thead th {\n",
       "        text-align: right;\n",
       "    }\n",
       "</style>\n",
       "<table border=\"1\" class=\"dataframe\">\n",
       "  <thead>\n",
       "    <tr style=\"text-align: right;\">\n",
       "      <th></th>\n",
       "      <th>Date</th>\n",
       "      <th>Name</th>\n",
       "      <th>Amount</th>\n",
       "      <th>Category</th>\n",
       "    </tr>\n",
       "  </thead>\n",
       "  <tbody>\n",
       "    <tr>\n",
       "      <th>0</th>\n",
       "      <td>2020-07-11</td>\n",
       "      <td>McDonald's</td>\n",
       "      <td>12.00</td>\n",
       "      <td>Food and Drink</td>\n",
       "    </tr>\n",
       "    <tr>\n",
       "      <th>1</th>\n",
       "      <td>2020-07-11</td>\n",
       "      <td>Starbucks</td>\n",
       "      <td>4.33</td>\n",
       "      <td>Food and Drink</td>\n",
       "    </tr>\n",
       "    <tr>\n",
       "      <th>2</th>\n",
       "      <td>2020-07-10</td>\n",
       "      <td>SparkFun</td>\n",
       "      <td>89.40</td>\n",
       "      <td>Food and Drink</td>\n",
       "    </tr>\n",
       "    <tr>\n",
       "      <th>3</th>\n",
       "      <td>2020-07-09</td>\n",
       "      <td>INTRST PYMNT</td>\n",
       "      <td>-4.22</td>\n",
       "      <td>Transfer</td>\n",
       "    </tr>\n",
       "    <tr>\n",
       "      <th>4</th>\n",
       "      <td>2020-06-29</td>\n",
       "      <td>United Airlines</td>\n",
       "      <td>500.00</td>\n",
       "      <td>Travel</td>\n",
       "    </tr>\n",
       "  </tbody>\n",
       "</table>\n",
       "</div>"
      ],
      "text/plain": [
       "        Date             Name  Amount        Category\n",
       "0 2020-07-11       McDonald's   12.00  Food and Drink\n",
       "1 2020-07-11        Starbucks    4.33  Food and Drink\n",
       "2 2020-07-10         SparkFun   89.40  Food and Drink\n",
       "3 2020-07-09     INTRST PYMNT   -4.22        Transfer\n",
       "4 2020-06-29  United Airlines  500.00          Travel"
      ]
     },
     "execution_count": 17,
     "metadata": {},
     "output_type": "execute_result"
    }
   ],
   "source": [
    "# Make any required data type transformation\n",
    "transactions_df['Date'] = pd.to_datetime(transactions_df['Date']).dt.normalize()\n",
    "transactions_df.head()"
   ]
  },
  {
   "cell_type": "code",
   "execution_count": 18,
   "metadata": {},
   "outputs": [
    {
     "data": {
      "text/html": [
       "<div>\n",
       "<style scoped>\n",
       "    .dataframe tbody tr th:only-of-type {\n",
       "        vertical-align: middle;\n",
       "    }\n",
       "\n",
       "    .dataframe tbody tr th {\n",
       "        vertical-align: top;\n",
       "    }\n",
       "\n",
       "    .dataframe thead th {\n",
       "        text-align: right;\n",
       "    }\n",
       "</style>\n",
       "<table border=\"1\" class=\"dataframe\">\n",
       "  <thead>\n",
       "    <tr style=\"text-align: right;\">\n",
       "      <th></th>\n",
       "      <th>Name</th>\n",
       "      <th>Amount</th>\n",
       "      <th>Category</th>\n",
       "    </tr>\n",
       "    <tr>\n",
       "      <th>Date</th>\n",
       "      <th></th>\n",
       "      <th></th>\n",
       "      <th></th>\n",
       "    </tr>\n",
       "  </thead>\n",
       "  <tbody>\n",
       "    <tr>\n",
       "      <th>2020-07-11</th>\n",
       "      <td>McDonald's</td>\n",
       "      <td>12.00</td>\n",
       "      <td>Food and Drink</td>\n",
       "    </tr>\n",
       "    <tr>\n",
       "      <th>2020-07-11</th>\n",
       "      <td>Starbucks</td>\n",
       "      <td>4.33</td>\n",
       "      <td>Food and Drink</td>\n",
       "    </tr>\n",
       "    <tr>\n",
       "      <th>2020-07-10</th>\n",
       "      <td>SparkFun</td>\n",
       "      <td>89.40</td>\n",
       "      <td>Food and Drink</td>\n",
       "    </tr>\n",
       "    <tr>\n",
       "      <th>2020-07-09</th>\n",
       "      <td>INTRST PYMNT</td>\n",
       "      <td>-4.22</td>\n",
       "      <td>Transfer</td>\n",
       "    </tr>\n",
       "    <tr>\n",
       "      <th>2020-06-29</th>\n",
       "      <td>United Airlines</td>\n",
       "      <td>500.00</td>\n",
       "      <td>Travel</td>\n",
       "    </tr>\n",
       "  </tbody>\n",
       "</table>\n",
       "</div>"
      ],
      "text/plain": [
       "                       Name  Amount        Category\n",
       "Date                                               \n",
       "2020-07-11       McDonald's   12.00  Food and Drink\n",
       "2020-07-11        Starbucks    4.33  Food and Drink\n",
       "2020-07-10         SparkFun   89.40  Food and Drink\n",
       "2020-07-09     INTRST PYMNT   -4.22        Transfer\n",
       "2020-06-29  United Airlines  500.00          Travel"
      ]
     },
     "execution_count": 18,
     "metadata": {},
     "output_type": "execute_result"
    }
   ],
   "source": [
    "# Set the date column as index\n",
    "transactions_df.set_index(\"Date\", inplace=True)\n",
    "\n",
    "# Display sample data\n",
    "transactions_df.head()"
   ]
  },
  {
   "cell_type": "markdown",
   "metadata": {},
   "source": [
    "---"
   ]
  },
  {
   "cell_type": "markdown",
   "metadata": {},
   "source": [
    "# Income Analysis with Plaid\n",
    "\n",
    "In this section, you will use the Plaid Sandbox to complete the following:\n",
    "\n",
    "1. Determine the previous year's gross income and print the results\n",
    "\n",
    "2. Determine the current monthly income and print the results\n",
    "\n",
    "3. Determine the projected yearly income and print the results"
   ]
  },
  {
   "cell_type": "code",
   "execution_count": 19,
   "metadata": {},
   "outputs": [
    {
     "data": {
      "text/plain": [
       "{'income': {'income_streams': [{'confidence': 0.99,\n",
       "    'days': 690,\n",
       "    'monthly_income': 500,\n",
       "    'name': 'UNITED AIRLINES'}],\n",
       "  'last_year_income': 6000,\n",
       "  'last_year_income_before_tax': 7285,\n",
       "  'max_number_of_overlapping_income_streams': 1,\n",
       "  'number_of_income_streams': 1,\n",
       "  'projected_yearly_income': 6085,\n",
       "  'projected_yearly_income_before_tax': 7389},\n",
       " 'request_id': 'GCzGzgfn0K9dA6K'}"
      ]
     },
     "execution_count": 19,
     "metadata": {},
     "output_type": "execute_result"
    }
   ],
   "source": [
    "# Fetch de income data\n",
    "income_response = client.Income.get(access_token)\n",
    "\n",
    "# Print the income data\n",
    "income_response"
   ]
  },
  {
   "cell_type": "code",
   "execution_count": 20,
   "metadata": {},
   "outputs": [
    {
     "data": {
      "text/plain": [
       "7285"
      ]
     },
     "execution_count": 20,
     "metadata": {},
     "output_type": "execute_result"
    }
   ],
   "source": [
    "# Determine the previous year's gross income and print the results\n",
    "income_response[\"income\"][\"last_year_income_before_tax\"]"
   ]
  },
  {
   "cell_type": "code",
   "execution_count": 21,
   "metadata": {},
   "outputs": [
    {
     "data": {
      "text/plain": [
       "500"
      ]
     },
     "execution_count": 21,
     "metadata": {},
     "output_type": "execute_result"
    }
   ],
   "source": [
    "# Determine the current monthly income and print the results\n",
    "income_response[\"income\"][\"income_streams\"][0][\"monthly_income\"]"
   ]
  },
  {
   "cell_type": "code",
   "execution_count": 22,
   "metadata": {},
   "outputs": [
    {
     "data": {
      "text/plain": [
       "6085"
      ]
     },
     "execution_count": 22,
     "metadata": {},
     "output_type": "execute_result"
    }
   ],
   "source": [
    "# Determine the projected yearly income and print the results\n",
    "income_response[\"income\"][\"projected_yearly_income\"]"
   ]
  },
  {
   "cell_type": "markdown",
   "metadata": {},
   "source": [
    "---"
   ]
  },
  {
   "cell_type": "markdown",
   "metadata": {},
   "source": [
    "# Budget Analysis\n",
    "In this section, you will use the transactions DataFrame to analyze the customer's budget\n",
    "\n",
    "1. Calculate the total spending per category and print the results (Hint: groupby or count transactions per category)\n",
    "\n",
    "2. Generate a bar chart with the number of transactions for each category\n",
    "\n",
    "3. Calulate the expenses per month\n",
    "\n",
    "4. Plot the total expenses per month"
   ]
  },
  {
   "cell_type": "markdown",
   "metadata": {},
   "source": [
    "### Calculate the expenses per category"
   ]
  },
  {
   "cell_type": "code",
   "execution_count": 23,
   "metadata": {},
   "outputs": [
    {
     "data": {
      "text/html": [
       "<div>\n",
       "<style scoped>\n",
       "    .dataframe tbody tr th:only-of-type {\n",
       "        vertical-align: middle;\n",
       "    }\n",
       "\n",
       "    .dataframe tbody tr th {\n",
       "        vertical-align: top;\n",
       "    }\n",
       "\n",
       "    .dataframe thead th {\n",
       "        text-align: right;\n",
       "    }\n",
       "</style>\n",
       "<table border=\"1\" class=\"dataframe\">\n",
       "  <thead>\n",
       "    <tr style=\"text-align: right;\">\n",
       "      <th></th>\n",
       "      <th>Name</th>\n",
       "      <th>Amount</th>\n",
       "      <th>Category</th>\n",
       "    </tr>\n",
       "    <tr>\n",
       "      <th>Date</th>\n",
       "      <th></th>\n",
       "      <th></th>\n",
       "      <th></th>\n",
       "    </tr>\n",
       "  </thead>\n",
       "  <tbody>\n",
       "    <tr>\n",
       "      <th>2020-07-11</th>\n",
       "      <td>McDonald's</td>\n",
       "      <td>12.00</td>\n",
       "      <td>Food and Drink</td>\n",
       "    </tr>\n",
       "    <tr>\n",
       "      <th>2020-07-11</th>\n",
       "      <td>Starbucks</td>\n",
       "      <td>4.33</td>\n",
       "      <td>Food and Drink</td>\n",
       "    </tr>\n",
       "    <tr>\n",
       "      <th>2020-07-10</th>\n",
       "      <td>SparkFun</td>\n",
       "      <td>89.40</td>\n",
       "      <td>Food and Drink</td>\n",
       "    </tr>\n",
       "    <tr>\n",
       "      <th>2020-07-09</th>\n",
       "      <td>INTRST PYMNT</td>\n",
       "      <td>-4.22</td>\n",
       "      <td>Transfer</td>\n",
       "    </tr>\n",
       "    <tr>\n",
       "      <th>2020-06-29</th>\n",
       "      <td>United Airlines</td>\n",
       "      <td>500.00</td>\n",
       "      <td>Travel</td>\n",
       "    </tr>\n",
       "  </tbody>\n",
       "</table>\n",
       "</div>"
      ],
      "text/plain": [
       "                       Name  Amount        Category\n",
       "Date                                               \n",
       "2020-07-11       McDonald's   12.00  Food and Drink\n",
       "2020-07-11        Starbucks    4.33  Food and Drink\n",
       "2020-07-10         SparkFun   89.40  Food and Drink\n",
       "2020-07-09     INTRST PYMNT   -4.22        Transfer\n",
       "2020-06-29  United Airlines  500.00          Travel"
      ]
     },
     "execution_count": 23,
     "metadata": {},
     "output_type": "execute_result"
    }
   ],
   "source": [
    "transactions_df.head()"
   ]
  },
  {
   "cell_type": "code",
   "execution_count": 24,
   "metadata": {},
   "outputs": [
    {
     "data": {
      "text/plain": [
       "<matplotlib.axes._subplots.AxesSubplot at 0x7f83d365b510>"
      ]
     },
     "execution_count": 24,
     "metadata": {},
     "output_type": "execute_result"
    },
    {
     "data": {
      "image/png": "[encoded data removed]",
      "text/plain": [
       "<Figure size 432x288 with 1 Axes>"
      ]
     },
     "metadata": {
      "needs_background": "light"
     },
     "output_type": "display_data"
    }
   ],
   "source": [
    "# Compute the total expenses per category\n",
    "total_exp = transactions_df.groupby(\"Category\").sum()\n",
    "\n",
    "# Display the expenses per catefory\n",
    "total_exp.plot(kind =\"bar\")"
   ]
  },
  {
   "cell_type": "code",
   "execution_count": 25,
   "metadata": {},
   "outputs": [
    {
     "data": {
      "text/html": [
       "<div>\n",
       "<style scoped>\n",
       "    .dataframe tbody tr th:only-of-type {\n",
       "        vertical-align: middle;\n",
       "    }\n",
       "\n",
       "    .dataframe tbody tr th {\n",
       "        vertical-align: top;\n",
       "    }\n",
       "\n",
       "    .dataframe thead th {\n",
       "        text-align: right;\n",
       "    }\n",
       "</style>\n",
       "<table border=\"1\" class=\"dataframe\">\n",
       "  <thead>\n",
       "    <tr style=\"text-align: right;\">\n",
       "      <th></th>\n",
       "      <th>Amount</th>\n",
       "    </tr>\n",
       "    <tr>\n",
       "      <th>Category</th>\n",
       "      <th></th>\n",
       "    </tr>\n",
       "  </thead>\n",
       "  <tbody>\n",
       "    <tr>\n",
       "      <th>Food and Drink</th>\n",
       "      <td>1122.06</td>\n",
       "    </tr>\n",
       "    <tr>\n",
       "      <th>Payment</th>\n",
       "      <td>2103.50</td>\n",
       "    </tr>\n",
       "    <tr>\n",
       "      <th>Recreation</th>\n",
       "      <td>78.50</td>\n",
       "    </tr>\n",
       "    <tr>\n",
       "      <th>Shops</th>\n",
       "      <td>500.00</td>\n",
       "    </tr>\n",
       "    <tr>\n",
       "      <th>Transfer</th>\n",
       "      <td>6845.78</td>\n",
       "    </tr>\n",
       "    <tr>\n",
       "      <th>Travel</th>\n",
       "      <td>11.73</td>\n",
       "    </tr>\n",
       "  </tbody>\n",
       "</table>\n",
       "</div>"
      ],
      "text/plain": [
       "                 Amount\n",
       "Category               \n",
       "Food and Drink  1122.06\n",
       "Payment         2103.50\n",
       "Recreation        78.50\n",
       "Shops            500.00\n",
       "Transfer        6845.78\n",
       "Travel            11.73"
      ]
     },
     "execution_count": 25,
     "metadata": {},
     "output_type": "execute_result"
    }
   ],
   "source": [
    "total_exp"
   ]
  },
  {
   "cell_type": "code",
   "execution_count": 26,
   "metadata": {},
   "outputs": [
    {
     "data": {
      "text/plain": [
       "array([<matplotlib.axes._subplots.AxesSubplot object at 0x7f83d36dc2d0>],\n",
       "      dtype=object)"
      ]
     },
     "execution_count": 26,
     "metadata": {},
     "output_type": "execute_result"
    },
    {
     "data": {
      "image/png": "[encoded data removed]",
      "text/plain": [
       "<Figure size 432x288 with 1 Axes>"
      ]
     },
     "metadata": {},
     "output_type": "display_data"
    }
   ],
   "source": [
    "# Create a spending categories pie chart.\n",
    "total_exp.plot(kind=\"pie\" , subplots=True, legend=False)"
   ]
  },
  {
   "cell_type": "markdown",
   "metadata": {},
   "source": [
    "### Calculate the expenses per month"
   ]
  },
  {
   "cell_type": "code",
   "execution_count": 27,
   "metadata": {},
   "outputs": [
    {
     "data": {
      "text/html": [
       "<div>\n",
       "<style scoped>\n",
       "    .dataframe tbody tr th:only-of-type {\n",
       "        vertical-align: middle;\n",
       "    }\n",
       "\n",
       "    .dataframe tbody tr th {\n",
       "        vertical-align: top;\n",
       "    }\n",
       "\n",
       "    .dataframe thead th {\n",
       "        text-align: right;\n",
       "    }\n",
       "</style>\n",
       "<table border=\"1\" class=\"dataframe\">\n",
       "  <thead>\n",
       "    <tr style=\"text-align: right;\">\n",
       "      <th></th>\n",
       "      <th></th>\n",
       "      <th>Amount</th>\n",
       "    </tr>\n",
       "    <tr>\n",
       "      <th>Date</th>\n",
       "      <th>Date</th>\n",
       "      <th></th>\n",
       "    </tr>\n",
       "  </thead>\n",
       "  <tbody>\n",
       "    <tr>\n",
       "      <th rowspan=\"2\" valign=\"top\">2020</th>\n",
       "      <th>7</th>\n",
       "      <td>101.51</td>\n",
       "    </tr>\n",
       "    <tr>\n",
       "      <th>6</th>\n",
       "      <td>10560.06</td>\n",
       "    </tr>\n",
       "  </tbody>\n",
       "</table>\n",
       "</div>"
      ],
      "text/plain": [
       "             Amount\n",
       "Date Date          \n",
       "2020 7       101.51\n",
       "     6     10560.06"
      ]
     },
     "execution_count": 27,
     "metadata": {},
     "output_type": "execute_result"
    }
   ],
   "source": [
    "# Create a DataFrame with the total expenses\n",
    "expenses_by_month = transactions_df.groupby(by=[transactions_df.index.year, transactions_df.index.month], sort=False).sum()\n",
    "\n",
    "# Display sample data\n",
    "expenses_by_month"
   ]
  },
  {
   "cell_type": "code",
   "execution_count": 29,
   "metadata": {},
   "outputs": [
    {
     "data": {
      "text/plain": [
       "<matplotlib.axes._subplots.AxesSubplot at 0x7f83d39604d0>"
      ]
     },
     "execution_count": 29,
     "metadata": {},
     "output_type": "execute_result"
    },
    {
     "data": {
      "image/png": "[encoded data removed]",
      "text/plain": [
       "<Figure size 432x288 with 1 Axes>"
      ]
     },
     "metadata": {
      "needs_background": "light"
     },
     "output_type": "display_data"
    }
   ],
   "source": [
    "# Create a spending per month bar chart\n",
    "expenses_by_month.sort_index().plot.bar()"
   ]
  },
  {
   "cell_type": "code",
   "execution_count": null,
   "metadata": {},
   "outputs": [],
   "source": []
  }
 ],
 "metadata": {
  "kernelspec": {
   "display_name": "Python 3",
   "language": "python",
   "name": "python3"
  },
  "language_info": {
   "codemirror_mode": {
    "name": "ipython",
    "version": 3
   },
   "file_extension": ".py",
   "mimetype": "text/x-python",
   "name": "python",
   "nbconvert_exporter": "python",
   "pygments_lexer": "ipython3",
   "version": "3.7.6"
  }
 },
 "nbformat": 4,
 "nbformat_minor": 4
}
